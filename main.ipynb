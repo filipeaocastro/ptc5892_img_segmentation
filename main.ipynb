{
 "cells": [
  {
   "cell_type": "markdown",
   "metadata": {},
   "source": [
    "# Segmentação de Miocárdio por meio de Redes Neurais Convolucionais\n",
    "\n",
    "Filipe Oliveira"
   ]
  },
  {
   "cell_type": "code",
   "execution_count": 1,
   "metadata": {},
   "outputs": [],
   "source": [
    "import os\n",
    "import pickle\n",
    "import numpy as np\n",
    "import pandas as pd\n",
    "import matplotlib.pyplot as plt"
   ]
  },
  {
   "cell_type": "code",
   "execution_count": 2,
   "metadata": {},
   "outputs": [],
   "source": [
    "datapath = 'data'\n",
    "trainpath = 'NORpatients'\n",
    "testpath = 'testing'\n",
    "modelspath = 'models'\n",
    "\n",
    "batch_size = 16\n",
    "img_size = (128, 128, 1)\n",
    "epochs = 25"
   ]
  },
  {
   "cell_type": "markdown",
   "metadata": {},
   "source": [
    "## Reading dataset and cropping images"
   ]
  },
  {
   "cell_type": "code",
   "execution_count": 3,
   "metadata": {},
   "outputs": [],
   "source": [
    "from tools.create_df import create\n",
    "\n",
    "if not os.path.exists(os.path.join(datapath, 'imgs_cropped.pkl')):\n",
    "    create(datapath, trainpath)"
   ]
  },
  {
   "cell_type": "markdown",
   "metadata": {},
   "source": [
    "## Partition train and validation"
   ]
  },
  {
   "cell_type": "code",
   "execution_count": 4,
   "metadata": {},
   "outputs": [
    {
     "name": "stdout",
     "output_type": "stream",
     "text": [
      "['patient061' 'patient062' 'patient063' 'patient064' 'patient065'\n",
      " 'patient066' 'patient067' 'patient068' 'patient069' 'patient070'\n",
      " 'patient071' 'patient072' 'patient073' 'patient074' 'patient075'\n",
      " 'patient076' 'patient077' 'patient078' 'patient079' 'patient080']\n",
      "['patient064' 'patient077' 'patient067' 'patient071']\n"
     ]
    }
   ],
   "source": [
    "from tools.partition_train_test import get_partitioned_data\n",
    "\n",
    "cropped_images_filename = 'imgs_cropped.pkl'\n",
    "cropped_path = os.path.join(datapath, cropped_images_filename)\n",
    "\n",
    "with open(cropped_path, 'rb') as f:\n",
    "    df = pickle.load(f)\n",
    "\n",
    "train, val = get_partitioned_data(df, batch_size)\n",
    "df = None"
   ]
  },
  {
   "cell_type": "markdown",
   "metadata": {},
   "source": [
    "## Retrieve the U-Net model"
   ]
  },
  {
   "cell_type": "code",
   "execution_count": 5,
   "metadata": {},
   "outputs": [
    {
     "name": "stdout",
     "output_type": "stream",
     "text": [
      "Model: \"model\"\n",
      "__________________________________________________________________________________________________\n",
      " Layer (type)                Output Shape                 Param #   Connected to                  \n",
      "==================================================================================================\n",
      " input_1 (InputLayer)        [(None, 128, 128, 1)]        0         []                            \n",
      "                                                                                                  \n",
      " conv2d (Conv2D)             (None, 128, 128, 64)         640       ['input_1[0][0]']             \n",
      "                                                                                                  \n",
      " batch_normalization (Batch  (None, 128, 128, 64)         256       ['conv2d[0][0]']              \n",
      " Normalization)                                                                                   \n",
      "                                                                                                  \n",
      " conv2d_1 (Conv2D)           (None, 128, 128, 64)         36928     ['batch_normalization[0][0]'] \n",
      "                                                                                                  \n",
      " batch_normalization_1 (Bat  (None, 128, 128, 64)         256       ['conv2d_1[0][0]']            \n",
      " chNormalization)                                                                                 \n",
      "                                                                                                  \n",
      " max_pooling2d (MaxPooling2  (None, 64, 64, 64)           0         ['batch_normalization_1[0][0]'\n",
      " D)                                                                 ]                             \n",
      "                                                                                                  \n",
      " conv2d_2 (Conv2D)           (None, 64, 64, 128)          73856     ['max_pooling2d[0][0]']       \n",
      "                                                                                                  \n",
      " batch_normalization_2 (Bat  (None, 64, 64, 128)          512       ['conv2d_2[0][0]']            \n",
      " chNormalization)                                                                                 \n",
      "                                                                                                  \n",
      " conv2d_3 (Conv2D)           (None, 64, 64, 128)          147584    ['batch_normalization_2[0][0]'\n",
      "                                                                    ]                             \n",
      "                                                                                                  \n",
      " batch_normalization_3 (Bat  (None, 64, 64, 128)          512       ['conv2d_3[0][0]']            \n",
      " chNormalization)                                                                                 \n",
      "                                                                                                  \n",
      " max_pooling2d_1 (MaxPoolin  (None, 32, 32, 128)          0         ['batch_normalization_3[0][0]'\n",
      " g2D)                                                               ]                             \n",
      "                                                                                                  \n",
      " conv2d_4 (Conv2D)           (None, 32, 32, 256)          295168    ['max_pooling2d_1[0][0]']     \n",
      "                                                                                                  \n",
      " batch_normalization_4 (Bat  (None, 32, 32, 256)          1024      ['conv2d_4[0][0]']            \n",
      " chNormalization)                                                                                 \n",
      "                                                                                                  \n",
      " conv2d_5 (Conv2D)           (None, 32, 32, 256)          590080    ['batch_normalization_4[0][0]'\n",
      "                                                                    ]                             \n",
      "                                                                                                  \n",
      " batch_normalization_5 (Bat  (None, 32, 32, 256)          1024      ['conv2d_5[0][0]']            \n",
      " chNormalization)                                                                                 \n",
      "                                                                                                  \n",
      " max_pooling2d_2 (MaxPoolin  (None, 16, 16, 256)          0         ['batch_normalization_5[0][0]'\n",
      " g2D)                                                               ]                             \n",
      "                                                                                                  \n",
      " conv2d_6 (Conv2D)           (None, 16, 16, 512)          1180160   ['max_pooling2d_2[0][0]']     \n",
      "                                                                                                  \n",
      " batch_normalization_6 (Bat  (None, 16, 16, 512)          2048      ['conv2d_6[0][0]']            \n",
      " chNormalization)                                                                                 \n",
      "                                                                                                  \n",
      " conv2d_7 (Conv2D)           (None, 16, 16, 512)          2359808   ['batch_normalization_6[0][0]'\n",
      "                                                                    ]                             \n",
      "                                                                                                  \n",
      " batch_normalization_7 (Bat  (None, 16, 16, 512)          2048      ['conv2d_7[0][0]']            \n",
      " chNormalization)                                                                                 \n",
      "                                                                                                  \n",
      " conv2d_transpose (Conv2DTr  (None, 32, 32, 256)          524544    ['batch_normalization_7[0][0]'\n",
      " anspose)                                                           ]                             \n",
      "                                                                                                  \n",
      " concatenate (Concatenate)   (None, 32, 32, 512)          0         ['batch_normalization_5[0][0]'\n",
      "                                                                    , 'conv2d_transpose[0][0]']   \n",
      "                                                                                                  \n",
      " conv2d_8 (Conv2D)           (None, 32, 32, 256)          1179904   ['concatenate[0][0]']         \n",
      "                                                                                                  \n",
      " batch_normalization_8 (Bat  (None, 32, 32, 256)          1024      ['conv2d_8[0][0]']            \n",
      " chNormalization)                                                                                 \n",
      "                                                                                                  \n",
      " conv2d_9 (Conv2D)           (None, 32, 32, 256)          590080    ['batch_normalization_8[0][0]'\n",
      "                                                                    ]                             \n",
      "                                                                                                  \n",
      " batch_normalization_9 (Bat  (None, 32, 32, 256)          1024      ['conv2d_9[0][0]']            \n",
      " chNormalization)                                                                                 \n",
      "                                                                                                  \n",
      " conv2d_transpose_1 (Conv2D  (None, 64, 64, 128)          131200    ['batch_normalization_9[0][0]'\n",
      " Transpose)                                                         ]                             \n",
      "                                                                                                  \n",
      " concatenate_1 (Concatenate  (None, 64, 64, 256)          0         ['batch_normalization_3[0][0]'\n",
      " )                                                                  , 'conv2d_transpose_1[0][0]'] \n",
      "                                                                                                  \n",
      " conv2d_10 (Conv2D)          (None, 64, 64, 128)          295040    ['concatenate_1[0][0]']       \n",
      "                                                                                                  \n",
      " batch_normalization_10 (Ba  (None, 64, 64, 128)          512       ['conv2d_10[0][0]']           \n",
      " tchNormalization)                                                                                \n",
      "                                                                                                  \n",
      " conv2d_11 (Conv2D)          (None, 64, 64, 128)          147584    ['batch_normalization_10[0][0]\n",
      "                                                                    ']                            \n",
      "                                                                                                  \n",
      " batch_normalization_11 (Ba  (None, 64, 64, 128)          512       ['conv2d_11[0][0]']           \n",
      " tchNormalization)                                                                                \n",
      "                                                                                                  \n",
      " conv2d_transpose_2 (Conv2D  (None, 128, 128, 64)         32832     ['batch_normalization_11[0][0]\n",
      " Transpose)                                                         ']                            \n",
      "                                                                                                  \n",
      " concatenate_2 (Concatenate  (None, 128, 128, 128)        0         ['batch_normalization_1[0][0]'\n",
      " )                                                                  , 'conv2d_transpose_2[0][0]'] \n",
      "                                                                                                  \n",
      " conv2d_12 (Conv2D)          (None, 128, 128, 64)         73792     ['concatenate_2[0][0]']       \n",
      "                                                                                                  \n",
      " batch_normalization_12 (Ba  (None, 128, 128, 64)         256       ['conv2d_12[0][0]']           \n",
      " tchNormalization)                                                                                \n",
      "                                                                                                  \n",
      " conv2d_13 (Conv2D)          (None, 128, 128, 64)         36928     ['batch_normalization_12[0][0]\n",
      "                                                                    ']                            \n",
      "                                                                                                  \n",
      " batch_normalization_13 (Ba  (None, 128, 128, 64)         256       ['conv2d_13[0][0]']           \n",
      " tchNormalization)                                                                                \n",
      "                                                                                                  \n",
      " conv2d_14 (Conv2D)          (None, 128, 128, 1)          65        ['batch_normalization_13[0][0]\n",
      "                                                                    ']                            \n",
      "                                                                                                  \n",
      "==================================================================================================\n",
      "Total params: 7707457 (29.40 MB)\n",
      "Trainable params: 7701825 (29.38 MB)\n",
      "Non-trainable params: 5632 (22.00 KB)\n",
      "__________________________________________________________________________________________________\n"
     ]
    }
   ],
   "source": [
    "from tools.unet_model import get_model\n",
    "\n",
    "model = get_model(img_size)\n",
    "model.summary()"
   ]
  },
  {
   "cell_type": "markdown",
   "metadata": {},
   "source": [
    "## Training the model"
   ]
  },
  {
   "cell_type": "code",
   "execution_count": null,
   "metadata": {},
   "outputs": [],
   "source": [
    "model.compile(optimizer=\"rmsprop\", loss=\"binary_crossentropy\")\n",
    "model_name = f'model_epochs{epochs}_batchsz{batch_size}_noPatMix'\n",
    "\n",
    "print(\"Model: \" + model_name)\n",
    "savepath = os.path.join(modelspath, model_name + '.keras')\n",
    "model.fit(train, epochs=epochs, validation_data=val)\n",
    "model.save(savepath)"
   ]
  },
  {
   "cell_type": "markdown",
   "metadata": {},
   "source": [
    "## Prediction over validation and test sets"
   ]
  },
  {
   "cell_type": "markdown",
   "metadata": {},
   "source": [
    "Loading test set:"
   ]
  },
  {
   "cell_type": "code",
   "execution_count": 6,
   "metadata": {},
   "outputs": [],
   "source": [
    "from tools.partition_train_test import get_test_data\n",
    "batch_size = 1\n",
    "test = get_test_data(datapath, batch_size)"
   ]
  },
  {
   "cell_type": "markdown",
   "metadata": {},
   "source": [
    "Reload validation with batch_size = 1"
   ]
  },
  {
   "cell_type": "code",
   "execution_count": 7,
   "metadata": {},
   "outputs": [
    {
     "name": "stdout",
     "output_type": "stream",
     "text": [
      "['patient061' 'patient062' 'patient063' 'patient064' 'patient065'\n",
      " 'patient066' 'patient067' 'patient068' 'patient069' 'patient070'\n",
      " 'patient071' 'patient072' 'patient073' 'patient074' 'patient075'\n",
      " 'patient076' 'patient077' 'patient078' 'patient079' 'patient080']\n",
      "['patient064' 'patient077' 'patient067' 'patient071']\n"
     ]
    }
   ],
   "source": [
    "with open(cropped_path, 'rb') as f:\n",
    "    df = pickle.load(f)\n",
    "\n",
    "_, val = get_partitioned_data(df, batch_size)\n",
    "df = None"
   ]
  },
  {
   "cell_type": "markdown",
   "metadata": {},
   "source": [
    "Predict:"
   ]
  },
  {
   "cell_type": "code",
   "execution_count": 8,
   "metadata": {},
   "outputs": [
    {
     "name": "stdout",
     "output_type": "stream",
     "text": [
      "76/76 [==============================] - 18s 230ms/step\n",
      "204/204 [==============================] - 47s 232ms/step\n"
     ]
    }
   ],
   "source": [
    "from tensorflow import keras\n",
    "\n",
    "use_saved_model = True\n",
    "\n",
    "if use_saved_model:\n",
    "    modelname = \"model_epochs25_batchsz16_noPatMix.keras\"\n",
    "    model_path = os.path.join(modelspath, modelname)\n",
    "    model = keras.models.load_model(model_path)\n",
    "\n",
    "preds = {}\n",
    "\n",
    "preds['val'] = model.predict(val)\n",
    "preds['test'] = model.predict(test)"
   ]
  },
  {
   "cell_type": "markdown",
   "metadata": {},
   "source": [
    "## Metrics"
   ]
  },
  {
   "cell_type": "markdown",
   "metadata": {},
   "source": [
    "### Metrics definition:"
   ]
  },
  {
   "cell_type": "markdown",
   "metadata": {},
   "source": [
    "NRMSE:"
   ]
  },
  {
   "cell_type": "code",
   "execution_count": 9,
   "metadata": {},
   "outputs": [],
   "source": [
    "def nrmse(true, pred, method='intensity'):\n",
    "    if method == 'range':\n",
    "        return rmse(true, pred) / (true.max() - true.min())\n",
    "    elif method == 'mean':\n",
    "        return rmse(true, pred) / np.mean(true)\n",
    "    elif method == 'intensity':\n",
    "        return np.sqrt(np.power(true - pred, 2) / (np.power(true, 2) + 0.001))\n",
    "    \n",
    "def nrmse_mean(trues, preds, method='intensity'):\n",
    "    nrmses = [nrmse(true, pred, method) for true, pred in zip(trues, preds)]\n",
    "    return np.mean(nrmses), np.std(nrmses)"
   ]
  },
  {
   "cell_type": "markdown",
   "metadata": {},
   "source": [
    "SSIM:"
   ]
  },
  {
   "cell_type": "code",
   "execution_count": 10,
   "metadata": {},
   "outputs": [],
   "source": [
    "from skimage.metrics import structural_similarity as sk_ssim\n",
    "def ssim(true, pred):\n",
    "    return sk_ssim(true, pred, channel_axis=-1, data_range=1)\n",
    "\n",
    "def ssim_mean(trues, preds):\n",
    "    ssims = [ssim(true, pred) for true, pred in zip(trues, preds)]\n",
    "    return np.mean(ssims), np.std(ssims)"
   ]
  },
  {
   "cell_type": "markdown",
   "metadata": {},
   "source": [
    "Dice:"
   ]
  },
  {
   "cell_type": "code",
   "execution_count": 11,
   "metadata": {},
   "outputs": [],
   "source": [
    "from tools.metrics import threshold_binary_images\n",
    "\n",
    "def dice(true, pred, threshold=0.2):\n",
    "    pred = threshold_binary_images(pred, threshold)\n",
    "    return (2 * np.sum(true[pred == 1]) + 0.001) / (np.sum(true) + np.sum(pred) + 0.001)\n",
    "\n",
    "def dice_mean(trues, preds, threshold=0.2):\n",
    "    dices = [dice(true, pred, threshold) for true, pred in zip(trues, preds)]\n",
    "    return np.mean(dices), np.std(dices), threshold"
   ]
  },
  {
   "cell_type": "markdown",
   "metadata": {},
   "source": [
    "All metrics above are defined in \"tools.metrics\" module"
   ]
  },
  {
   "cell_type": "markdown",
   "metadata": {},
   "source": [
    "### Estimating metrics"
   ]
  },
  {
   "cell_type": "markdown",
   "metadata": {},
   "source": [
    "The method _metrics.summary_ apply all the metrics above.\n",
    "\n",
    "Metrics summary for validation patients:"
   ]
  },
  {
   "cell_type": "code",
   "execution_count": 12,
   "metadata": {},
   "outputs": [
    {
     "name": "stdout",
     "output_type": "stream",
     "text": [
      "\n",
      "##### Metrics Summary for validation #####\n",
      "NRMSE: 0.098 ± 1.172\n",
      "SSIM: 0.952 ± 0.019\n",
      "Best Dice: 0.809 ± 0.243 - for threshold 0.250\n"
     ]
    }
   ],
   "source": [
    "from tools.metrics import summary, dice_threshold\n",
    "\n",
    "trues = {}\n",
    "\n",
    "trues['val'] = [val[i][1][0] for i in range(len(val))]\n",
    "trues['test'] = [test[i][1][0] for i in range(len(test))]\n",
    "\n",
    "summary(trues['val'], preds['val'], cohort=\"val\")"
   ]
  },
  {
   "cell_type": "markdown",
   "metadata": {},
   "source": [
    "Finding the best binarization threshold in the validation set and estimating the metrics over the test set using this value:"
   ]
  },
  {
   "cell_type": "code",
   "execution_count": 13,
   "metadata": {},
   "outputs": [
    {
     "data": {
      "image/png": "[encoded data removed]",
      "text/plain": [
       "<Figure size 640x480 with 1 Axes>"
      ]
     },
     "metadata": {},
     "output_type": "display_data"
    },
    {
     "name": "stdout",
     "output_type": "stream",
     "text": [
      "\n",
      "##### Metrics Summary for testing #####\n",
      "NRMSE: 0.102 ± 1.205\n",
      "SSIM: 0.949 ± 0.021\n",
      "Dice: 0.694 ± 0.292 (threshold = 0.25)\n"
     ]
    }
   ],
   "source": [
    "_, _, threshold= dice_threshold(trues['val'], preds['val'], plot=True)\n",
    "summary(trues['test'], preds['test'], cohort=\"test\", threshold=threshold)"
   ]
  }
 ],
 "metadata": {
  "kernelspec": {
   "display_name": "img_seg",
   "language": "python",
   "name": "python3"
  },
  "language_info": {
   "codemirror_mode": {
    "name": "ipython",
    "version": 3
   },
   "file_extension": ".py",
   "mimetype": "text/x-python",
   "name": "python",
   "nbconvert_exporter": "python",
   "pygments_lexer": "ipython3",
   "version": "3.9.0"
  },
  "orig_nbformat": 4
 },
 "nbformat": 4,
 "nbformat_minor": 2
}
